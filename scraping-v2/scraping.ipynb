{
 "cells": [
  {
   "cell_type": "code",
   "execution_count": 1,
   "id": "363cb884-cc3a-4149-a869-78e569f455cf",
   "metadata": {
    "tags": []
   },
   "outputs": [],
   "source": [
    "import pandas as pd\n",
    "import numpy as np\n",
    "\n",
    "from selenium import webdriver\n",
    "from selenium.webdriver.common.by import By\n",
    "from selenium.webdriver import ChromeOptions\n",
    "import time"
   ]
  },
  {
   "cell_type": "code",
   "execution_count": 57,
   "id": "f1e707ea-0307-43b9-9b74-4f5459d2e74b",
   "metadata": {
    "tags": []
   },
   "outputs": [],
   "source": [
    "driver = webdriver.Chrome()\n",
    "\n",
    "driver.get(\"https://www.ncbi.nlm.nih.gov/labs/virus/vssi/#/virus?SeqType_s=Nucleotide&VirusLineage_ss=West%20Nile%20virus,%20taxid:11082&Completeness_s=complete\")\n",
    "\n",
    "driver.implicitly_wait(0.5)\n",
    "\n",
    "# seq_names = driver.find_elements(by=By.CLASS_NAME, value=\"refseq-link\")\n",
    "driver.quit()"
   ]
  },
  {
   "cell_type": "code",
   "execution_count": 26,
   "id": "37289e43-2710-431d-b4f9-a54a68fd4cd4",
   "metadata": {
    "tags": []
   },
   "outputs": [
    {
     "name": "stdout",
     "output_type": "stream",
     "text": [
      "NC_009942.1\n",
      "NC_001563.2\n"
     ]
    }
   ],
   "source": [
    "for i in seq_names:\n",
    "    print(i.text)"
   ]
  },
  {
   "cell_type": "code",
   "execution_count": null,
   "id": "2054e0be-c34d-4ada-b993-ab5e7a2e25ee",
   "metadata": {
    "tags": []
   },
   "outputs": [],
   "source": []
  },
  {
   "cell_type": "code",
   "execution_count": 2,
   "id": "6c51bec7-e06e-4985-a6a5-f6c24e954ca2",
   "metadata": {
    "tags": []
   },
   "outputs": [
    {
     "name": "stdout",
     "output_type": "stream",
     "text": [
      "/Users/liam/west/scraping-v2\n"
     ]
    }
   ],
   "source": [
    "!pwd"
   ]
  },
  {
   "cell_type": "code",
   "execution_count": 2,
   "id": "1f33d9bd-7ba2-4475-8805-72b753fad9ae",
   "metadata": {
    "tags": []
   },
   "outputs": [],
   "source": [
    "sequences = open(\"sequences.fasta\", \"r\").read()\n",
    "sequnces_list = sequences.split(sep=\"\\n\")\n",
    "# sequnces_list[:500]"
   ]
  },
  {
   "cell_type": "code",
   "execution_count": 3,
   "id": "3abdeaab-4b74-4d7e-9644-a27e6c91dd3c",
   "metadata": {
    "tags": []
   },
   "outputs": [
    {
     "data": {
      "text/plain": [
       "(['NC_009942.1', 'NC_001563.2', 'PP524755.1', 'PP524756.1', 'LC817237.1'],\n",
       " 1996)"
      ]
     },
     "execution_count": 3,
     "metadata": {},
     "output_type": "execute_result"
    }
   ],
   "source": [
    "seq_name = []\n",
    "for seq in sequnces_list:\n",
    "    if len(seq) != 0 and seq[0] == \">\":\n",
    "        stop = seq.find(\" \")\n",
    "        seq_name.append(seq[1:stop])\n",
    "seq_name[:5], len(seq_name)"
   ]
  },
  {
   "cell_type": "code",
   "execution_count": 4,
   "id": "d8b9c6a9-1613-4516-af1e-c58dda29815c",
   "metadata": {
    "tags": []
   },
   "outputs": [
    {
     "name": "stdout",
     "output_type": "stream",
     "text": [
      "NC_009942.1\n"
     ]
    },
    {
     "ename": "NameError",
     "evalue": "name 'By' is not defined",
     "output_type": "error",
     "traceback": [
      "\u001b[0;31m---------------------------------------------------------------------------\u001b[0m",
      "\u001b[0;31mNameError\u001b[0m                                 Traceback (most recent call last)",
      "Cell \u001b[0;32mIn[4], line 13\u001b[0m\n\u001b[1;32m     11\u001b[0m driver\u001b[38;5;241m.\u001b[39mget(url)\n\u001b[1;32m     12\u001b[0m driver\u001b[38;5;241m.\u001b[39mimplicitly_wait(\u001b[38;5;241m0.5\u001b[39m)\n\u001b[0;32m---> 13\u001b[0m full_txt \u001b[38;5;241m=\u001b[39m driver\u001b[38;5;241m.\u001b[39mfind_element(By\u001b[38;5;241m.\u001b[39mXPATH, \u001b[38;5;124m'\u001b[39m\u001b[38;5;124m/html/body/div[1]/div[1]/form/div[1]/div[4]/div/div[5]/div[2]/div[1]/div/div/pre\u001b[39m\u001b[38;5;124m'\u001b[39m)\u001b[38;5;241m.\u001b[39mtext\n\u001b[1;32m     14\u001b[0m TITLE \u001b[38;5;241m=\u001b[39m full_txt[full_txt\u001b[38;5;241m.\u001b[39mfind(\u001b[38;5;124m\"\u001b[39m\u001b[38;5;124mTITLE\u001b[39m\u001b[38;5;124m\"\u001b[39m):full_txt\u001b[38;5;241m.\u001b[39mfind(\u001b[38;5;124m\"\u001b[39m\u001b[38;5;124mJOURNAL\u001b[39m\u001b[38;5;124m\"\u001b[39m)][\u001b[38;5;241m6\u001b[39m:]\n\u001b[1;32m     15\u001b[0m source \u001b[38;5;241m=\u001b[39m []\n",
      "\u001b[0;31mNameError\u001b[0m: name 'By' is not defined"
     ]
    }
   ],
   "source": [
    "df = pd.DataFrame(columns=['Name', 'TITLE', 'source'])\n",
    "\n",
    "options = ChromeOptions()\n",
    "options.add_argument(\"--headless=new\")\n",
    "\n",
    "driver = webdriver.Chrome(options=options)\n",
    "\n",
    "for name in seq_name:\n",
    "    print(name)\n",
    "    url = \"https://www.ncbi.nlm.nih.gov/nuccore/\" + name\n",
    "    driver.get(url)\n",
    "    driver.implicitly_wait(0.5)\n",
    "    full_txt = driver.find_element(By.XPATH, '/html/body/div[1]/div[1]/form/div[1]/div[4]/div/div[5]/div[2]/div[1]/div/div/pre').text\n",
    "    TITLE = full_txt[full_txt.find(\"TITLE\"):full_txt.find(\"JOURNAL\")][6:]\n",
    "    source = []\n",
    "    temp = full_txt[full_txt.find(\"source\"):].split(sep=\"\\n\")\n",
    "    source.append(temp[0][7:])\n",
    "    for i in temp[1:]:\n",
    "        if i[5] != \" \":\n",
    "            break\n",
    "        source.append(i)\n",
    "    df = pd.concat([df, pd.DataFrame([[name, TITLE, \"\".join(source)]], columns=df.columns)], ignore_index=True)\n",
    "df.head()\n",
    "df.to_excel(\"metadata.xlsx\")"
   ]
  },
  {
   "cell_type": "code",
   "execution_count": null,
   "id": "7451051c-3f0a-4b5f-a2b3-403fe2781d93",
   "metadata": {},
   "outputs": [],
   "source": []
  }
 ],
 "metadata": {
  "kernelspec": {
   "display_name": "Python 3 (ipykernel)",
   "language": "python",
   "name": "python3"
  },
  "language_info": {
   "codemirror_mode": {
    "name": "ipython",
    "version": 3
   },
   "file_extension": ".py",
   "mimetype": "text/x-python",
   "name": "python",
   "nbconvert_exporter": "python",
   "pygments_lexer": "ipython3",
   "version": "3.11.5"
  }
 },
 "nbformat": 4,
 "nbformat_minor": 5
}
