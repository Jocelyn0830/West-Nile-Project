{
 "cells": [
  {
   "cell_type": "code",
   "execution_count": 2,
   "id": "c9fc2d6b-74e3-4205-a1d0-f5d9db8c7782",
   "metadata": {
    "tags": []
   },
   "outputs": [],
   "source": [
    "import pandas as pd\n",
    "import numpy as np\n",
    "\n",
    "from pathlib import Path\n"
   ]
  },
  {
   "cell_type": "code",
   "execution_count": 7,
   "id": "7b1c0b8b-0011-450f-a173-5d02e4f51093",
   "metadata": {
    "tags": []
   },
   "outputs": [
    {
     "data": {
      "text/plain": [
       "PosixPath('../data/sequence_data/zika.fa')"
      ]
     },
     "execution_count": 7,
     "metadata": {},
     "output_type": "execute_result"
    }
   ],
   "source": [
    "# find all *.fa\n",
    "paths = []\n",
    "for path in Path('../data/sequence_data').rglob('*.fa'):\n",
    "    paths.append(path)\n",
    "paths[0]"
   ]
  },
  {
   "cell_type": "code",
   "execution_count": 14,
   "id": "1ab1f8c7-dfe3-498d-9529-1bf4fd2627d9",
   "metadata": {
    "tags": []
   },
   "outputs": [],
   "source": [
    "d = dict()\n",
    "for p in paths:\n",
    "    sequence = open(p, \"r\").read()\n",
    "    lines = sequence.split(\"\\n\")\n",
    "    d[lines[0]] = \"\".join(lines[1:])\n"
   ]
  },
  {
   "cell_type": "code",
   "execution_count": 26,
   "id": "0b28a102-f573-4e19-85c5-fb6a766813b7",
   "metadata": {
    "collapsed": true,
    "jupyter": {
     "outputs_hidden": true
    },
    "tags": []
   },
   "outputs": [
    {
     "data": {
      "text/plain": [
       "'>KX893855_Zika\\nAGTTGTTACTGTTGCTGACTCAGACTGCGACAGTTCGAGTTTGAAGCGAAAGCTAGCAACAGTATCAACA\\nGGTTTTATTTTGGATTTGGAAACGAGAGTTTCTGGTCATGAAAAACCCAAAAAAGAAATCCGGAGGATTC\\nCGGATTGTCAATATGCTAAAACGCGGAGTAGCCCGTGTGAGCCCCTTTGGGGGCTTGAAGAGGCTGCCAG\\nCCGGACTTCTGCTGGGTCATGGGCCCATCAGGATGGTCTTGGCGATTCTAGCCTTTTTGAGATTCACGGC\\nAATCAAGCCATCACTGGGTCTCATCAATAGATGGGGTTCAGTGGGGAAAAAAGAKGCTATGGAAATAATA\\nAAGAAGTTCAAGAAAGATCTGGCTGCCATGCTGAGAATAATCAATGCTAGGAAGGAGAAGAAGAGACGAG\\nGCGCAGAAACTAGTGTCGGAATTGTTGGCCTCCTTCTGACCACAGCTATGGCAGCGGAGGTCACTAGACG\\nTGGGAGTGCATACTATATGTACTTGGACAGAAACGATGCTGGGGAGGCCATATCTTTTCCAACCACATTG\\nGGGATGAATAAGTGTTATATACAGATCATGGATCTTGGACACATGTGTGATGCCACCATGAGCTATGAAT\\nGCCCTATGCTGGATGAGGGGGTGGAACCAGATGACGTCGATTGTTGGTGCAACACGACGTCAACTTGGGT\\nTGTGTACGGAACCTGCCATCACAAAAAAGGTGAAGCACGGAGATCTAGAAGAGCCGTGACGCTCCCCTCC\\nCATTCCACTAGGAAGCTGCAAACGCGGTCGCAAACCTGGTTGGAATCAAGAGAATACACAAAGCACTTGA\\nTTAGAGTCGAAAATTGGATATTCAGGAACCCTGGTTTCGCTTTAGCAGCAGCTGCCATCGCTTGGCTTTT\\nGGGAAGCTCAACGAGCCAAAAAGTCATATACTTGGTCATGATACTGCTGATTGCCCCGGCATACAGCATC\\nAGGTGCATAGGAGTCAGCAATAGGGACTTTGTGGAAGGTATGTCAGGTGGGACTTGGGTTGATGTCGTCT\\nTGGAACATGGAGGTTGTGTCACCGTAATGGCACAGGACAAACCGACTGTCGACATAGAGCTGGTTACAAC\\nAACAGTCAGCAACATGGCGGAGGTAAGATCCTACTGCTATGAGGCATCAATATCAGACATGGCTTCGGAC\\nAGCCGCTGCCCAACACAAGGTGAAGCCTACCTTGACAAGCAATCAGACACTCAATATGTYTGCAAAAGAA\\nCGTTAGTGGACAGAGGCTGGGGAAATGGATGTGGACTTTTTGGCAAAGGGAGCCTGGTGACATGCGCTAA\\nGTTTGCATGCTCCAAGAAAATGACCGGGAAGAGCATCCAGCCAGAGAATCTGGAGTACCGGATAATGTTG\\nTCAGTTCATGGCTCCCAGCACAGTGGGATGATTGTTAATGACACAGGACATGAAACTGATGAGAATAGAG\\nCGAAGGTTGAGATAACGCCCAATTCACCAAGAGCCGAAGCCACCCTGGGGGGTTTTGGAAGCCTAGGACT\\nTGATTGTGAACCGAGGACAGGCCTTGACTTTTCAGATTTGTATTACTTGACTATGAATAACAAGCACTGG\\nTTGGTTCACAAGGAGTGGTTCCACGACATTCCATTACCTTGGCACGCTGGGGCAGACACCGGAACTCCAC\\nACTGGAACAACAAAGAAGCACTGGTAGAGTTCAAGGACGCACATGCCAAAAGGCAAACTGTCGTGGTTCT\\nAGGGAGTCAAGAAGGAGCAGTTCACACGGCCCTTGCTGGAGCTCTGGAGGCTGAGATGGATGGTGCAAAG\\nGGAAGGCTGTCCTCTGGCCACTTGAAATGTCGCCTGAAAATGGATAAACTTAGATTGAAGGGCGTGTCAT\\nACTCCTTGTGTACCGCAGCGTTCACATTCACCAAGATCCCGGCTGAAACACTGCACGGGACAGTCACAGT\\nGGAGGTACAGTACGCAGGGACAGATGGACCTTGCAAGGTTCCAGCTCAGATGGCGGTGGACATGCAAACT\\nCTGACCCCAGTTGGGAGGTTGATAACCGCTAACCCCGTAATCACTGAAAGCACTGAGAACTCTAAGATGA\\nTGCTGGAACTTGATCCACCATTTGGGGACTCTTACATTGTCATAGGAGTCGGGGAGAAGAAGATCACCCA\\nCCACTGGCACAGGAGTGGCAGCACCATTGGAAAAGCATTTGAAGCCACTGTGAGAGGTGCCAAGAGAATG\\nGCAGTCTTGGGAGACACAGCCTGGGACTTTGGATCAGTTGGAGGCGCTCTCAACTCATTGGGCAAGGGCA\\nTCCATCAAATTTTTGGAGCAGCTTTCAAATCATTGTTTGGAGGAATGTCCTGGTTCTCACAAATTCTCAT\\nTGGAACGTTGCTGATGTGGTTGGGTCTGAACACAAAGAATGGATCTATTTCCCTTATGTGCTTGGCCTTA\\nGGGGGAGTGTTGATCTTCTTATCCACAGCCGTCTCTGCTGATGTGGGGTGCTCGGTGGACTTCTCAAAGA\\nAGGAGACGAGATGTGGTACAGGGGTGTTCGTCTATAACGACGTTGAAGCCTGGAGGGACAGGTACAAGTA\\nCCATCCTGACTCCCCCCGTAGATTGGCAGCAGCAGTCAAGCAAGCCTGGGAAGATGGTATCTGCGGGATC\\nTCCTCTGTTTCAAGAATGGAAAACATCATGTGGAGATCAGTAGAAGGGGAGCTCAACGCAATCCTGGAAG\\nAGAATGGAGTTCAACTGACGGTCGTTGTGGGATCTGTAAAAAACCCCATGTGGAGAGGTCCACAGAGATT\\nGCCCGTGCCTGTGAACGAGCTGCCCCACGGCTGGAAGGCTTGGGGGAAATCGTACTTCGTCAGAGCAGCA\\nAAGACAAATAACAGCTTTGTCGTGGATGGTGACACACTGAAAGAATGCCCACTCAAACATAGAGCATGGA\\nACAGCTTTCTTGTGGAGGATCATGGGTTCGGGGTATTTCACACTAGTGTCTGGCTCAAGGTTAGAGAAGA\\nTTATTCATTAGAGTGTGATCCAGCCGTTATTGGAACAGCTGTTAAGGGAAAGGAGGCTGTACACAGTGAT\\nCTAGGCTACTGGATTGAGAGTGAGAAGAATGACACATGGAGGCTGAAGAGGGCCCATCTGATCGAGATGA\\nAAACATGTGAATGGCCAAAGTCCCACACATTGTGGACAGATGGAATAGAAGAGAGTGATCTGATCATACC\\nCAAGTCTTTAGCTGGGCCACTCAGCCATCACAATACCAGAGAGGGCTACAGGACCCAAATGAAAGGGCCA\\nTGGCACAGTGAAGAGCTTGAAATTCGGTTTGAGGAATGCCCAGGCACTAAGGTCCACGTGGAGGAAACAT\\nGTGGAACAAGAGGACCATCTCTGAGATCACCCACTGCAAGCGGAAGGGTGATCGAGGAATGGTGCTGCAG\\nGGAGTGCACAATGCCCCCACTGTCGTTCTGGGCTAAAGATGGCTGTTGGTATGGAATGGAGATAAGGCCC\\nAGGAAAGAACCAGAAAGCAACTTAGTAAGGTCAATGGTGACTGCAGGATCAACTGATCACATGGATCACT\\nTCTCCCTTGGAGTGCTTGTGATTCTGCTCATGGTGCAGGAAGGGCTGAAGAAGAGAATGACCACAAAGAT\\nCATCATAAGCACATCAATGGCAGTGCTGGTAGCTATGATCCTGGGAGGATTTTCAATGAGTGACCTGGCT\\nAAGCTTGCAATCTTGATGGGTGCCACCTTCGCGGAAATGAACACTGGAGGAGATGTAGCTCATCTGGCGC\\nTGATAGCGGCATTCAAAGTCAGACCAGCGTTGCTGGTATCCTTCATCTTCAGAGCTAATTGGACACCCCG\\nTGAAAGCATGCTGCTGGCCTTGGCCTCGTGTCTTTTGCAAACTGCGATCTCCGCCTTGGAGGGCGACCTG\\nATGGTTCTCATCAATGGTTTTGCTTTGGCCTGGTTGGCAATACGAGCGATGGTTGTTCCACGCACTGACA\\nACATCACCTTGGCAATCCTGGCTGCTCTGACACCACTGGCCCGGGGCACACTGCTTGTGGCGTGGAGAGC\\nAGGCCTTGCTACTTGCGGGGGGTTTATGCTCCTCTCTCTGAAGGGAAAAGGCAGTGTGAAGAAGAACTTA\\nCCATTTGTCATGGCCCTGGGACTAACCGCTGTGAGGCTGGTCGACCCCATCAACGTGGTGGGACTGCTGT\\nTGCTCACAAGGAGTGGGAAGCGGAGCTGGCCCCCTAGCGAAGTACTCACAGCTGTTGGCCTGATATGCGC\\nATTGGCTGGAGGGTTCGCCAAGGCAGATATAGAGATGGCTGGGCCCATGGCCGCGGTTGGTCTGCTAATT\\nGTCAGTTACGTGGTCTCAGGAAAGAGTGTGGACATGTACATTGAAAGAGCAGGTGACATCACATGGGAAA\\nAAGATGCGGAAGTCACTGGAAACAGTCCCCGGCTCGATGTGGCGCTAGATGAGAGTGGTGATTTCTCCCT\\nGGTGGAGGATGACGGTCCCCCCATGAGAGAGATCATACTCAAGGTGGTCCTGATGACCATCTGTGGCATG\\nAACCCAATAGCCATACCCTTTGCAGCTGGAGCGTGGTACGTATACGTGAAGACTGGAAAAAGGAGTGGTG\\nCGCTATGGGATGTGCCTGCTCCCAAGGAAGTAAAAAAGGGGGAGACCACAGATGGAGTGTACAGAGTAAT\\nGACTCGTAGACTGCTAGGTTCAACACAAGTTGGAGTGGGAGTTATGCAAGAGGGGGTCTTTCACACTATG\\nTGGCACGTCACAAAAGGATCCGCGCTGAGAAGCGGTGAAGGGAGACTTGATCCATACTGGGGAGATGTCA\\nAGCAGGATCTGGTGTCATACTGTGGTCCATGGAAGCTAGATGCCGCCTGGGACGGGCACAGCGAGGTGCA\\nGCTCTTGGCCGTGCCCCCCGGAGAGAGAGCGAGGAACATCCAGACTCTGCCCGGAATATTTAAGACAAAG\\nGATGGGGACATTGGAGCGGTTGCGCTGGATTACCCAGCAGGAACTTCAGGATCTCCAATCCTAGACAAGT\\nGTGGGAGAGTGATAGGACTTTATGGCAATGGGGTCGTGATCAAAAATGGGAGTTATGTTAGTGCCATCAC\\nCCAAGGGAGGAGGGAGGAAGAGACTCCTGTTGAGTGCTTCGAGCCTTCGATGCTGAAGAAGAAGCAGCTA\\nACTGTCTTAGACTTGCATCCTGGAGCTGGGAAAACCAGGAGAGTTCTTCCTGAAATAGTCCGTGAAGCCA\\nTAAAAACAAGACTCCGTACTGTGATCTTAGCTCCAACCAGGGTTGTCGCTGCTGAAATGGAGGAAGCCCT\\nTAGAGGGCTTCCAGTGCGTTATATGACAACAGCAGTCAATGTCACCCACTCTGGAACAGAAATCGTCGAC\\nTTAATGTGCCATGCCACCTTCACTTCACGTCTACTACAGCCAATCAGAGTCCCCAACTATAATCTGTATA\\nTTATGGATGAGGCCCACTTCACAGATCCCTCAAGTATAGCAGCAAGAGGATACATTTCAACAAGGGTTGA\\nGATGGGCGAGGCGGCTGCCATCTTCATGACCGCCACGCCACCAGGAACCCGTGACGCATTTCCGGACTCC\\nAACTCACCAATTATGGACACCGAAGTGGAAGTCCCAGAGAGAGCCTGGAGCTCAGGCTTTGATTGGGTGA\\nCGGATCATTCTGGAAAAACAGTTTGGTTTGTTCCAAGCGTGAGGAACGGCAATGAGATCGCAGCTTGTCT\\nGACAAAGGCTGGAAAACGGGTCATACAGCTCAGCAGAAAGACTTTTGAGACAGAGTTCCAGAAAACAAAA\\nCATCAAGAGTGGGACTTTGTCGTGACAACTGACATTTCAGAGATGGGCGCCAACTTTAAAGCTGACCGTG\\nTCATAGATTCCAGGAGATGCCTAAAGCCGGTCATACTTGATGGCGAGAGAGTCATTCTGGCTGGACCCAT\\nGCCTGTCACACATGCCAGCGCTGCCCAGAGGAGGGGGCGCATAGGCAGGAATCCCAATAAACCTGGAGAT\\nGAGTATCTGTATGGAGGTGGGTGCGCAGAGACTGACGAAGACCATGCACACTGGCTTGAAGCAAGAATGC\\nTCCTTGACAATATTTACCTCCAAGATGGCCTCATAGCCTCGCTCTATCGACCTGAGGCCGACAAAGTAGC\\nAGCCATTGAGGGAGAGTTCAAGCTTAGGACGGAGCAAAGGAAGACCTTTGTGGAACTCATGAAAAGAGGA\\nGATCTTCCTGTTTGGCTGGCCTATCAGGTTGCATCTGCCGGAATAACCTACACAGATAGAAGATGGTGCT\\nTTGATGGCACGACCAACAACACCATAATGGAAGACAGTGTGCCGGCAGAGGTGTGGACCAGACACGGAGA\\nGAAAAGAGTGCTCAAACCGAGGTGGATGGACGCCAGAGTTTGTTCAGATCATGCGGCCCTGAAGTCATTC\\nAAGGAGTTTGCCGCTGGGAAAAGAGGAGCGGCTTTTGGAGTGATGGAAGCCCTGGGAACACTGCCAGGAC\\nACATGACAGAGAGATTCCAGGAAGCCATTGACAACCTCGCTGTGCTCATGCGGGCAGAGACTGGAAGCAG\\nGCCTTACAAAGCCGCGGCGGCCCAATTGCCGGAGACCCTAGAGACCATTATGCTTTTGGGGTTGCTGGGA\\nACAGTCTCGTTGGGAATCTTTTTCGTCTTGATGAGGAACAAGGGCATAGGGAAGATGGGCTTTGGAATGG\\nTGACTCTTGGGGCCAGCGCATGGCTCATGTGGCTCTCGGAAATTGAGCCAGCCAGAATTGCATGTGTCCT\\nCATTGTTGTGTTCCTATTGCTGGTGGTGCTCATACCTGAGCCAGAAAAGCAAAGATCTCCCCAGGACAAC\\nCAAATGGCAATCATCATCATGGTAGCAGTAGGTCTTCTGGGCTTGATTACCGCCAATGAACTCGGATGGT\\nTGGAGAGAACAAAGAGTGACCTAAGCCATCTAATGGGAAGGAGAGAGGAGGGGGCAACCATAGGATTCTC\\nAATGGACATTGACCTGCGGCCAGCCTCAGCTTGGGCCATCTATGCTGCCTTGACAACTTTCATTACCCCA\\nGCCGTCCAACATGCAGTGACCACTTCATACAACAACTACTCCTTAATGGCGATGGCCACGCAAGCTGGAG\\nTGTTGTTTGGTATGGGCAAAGGGATGCCATTCTACGCATGGGACTTTGGAGTCCCGCTGCTAATGATAGG\\nTTGCTACTCACAATTAACACCCCTGACCCTAATAGTGGCCATCATTTTGCTCGTGGCGCACTACATGTAC\\nTTGATCCCAGGGCTGCAGGCAGCAGCTGCGCGTGCTGCCCAGAAGAGAACGGCAGCTGGCATCATGAAGA\\nACCCTGTTGTGGATGGAATAGTGGTGACTGACATTGACACAATGACAATTGACCCCCAAGTGGAGAAAAA\\nGATGGGACAGGTGCTACTCATAGCAGTAGCCGTCTCCAGCGCCATACTGTCGCGGACCGCCTGGGGGTGG\\nGGGGAGGCTGGGGCCCTGATCACAGCCGCAACTTCCACTTTGTGGGAAGGCTCTCCGAACAAGTACTGGA\\nACTCCTCTACAGCCACTTCACTGTGTAACATTTTTAGGGGAAGTTACTTGGCTGGAGCTTCTCTAATCTA\\nCACAGTAACAAGAAACGCTGGCTTGGTCAAGAGACGTGGGGGTGGAACAGGAGAGACCCTGGGAGAGAAA\\nTGGAAGGCCCGCTTGAACCAGATGTCGGCCCTGGAGTTCTACTCCTACAAAAAGTCAGGCATCACCGAGG\\nTGTGCAGAGAAGAGGCCCGCCGCGCCCTCAAGGACGGTGTGGCAACGGGAGGCCATGCTGTGTCCCGAGG\\nAAGTGCAAAGCTGAGATGGTTGGTGGAGCGGGGATACCTGCAGCCCTATGGAAAGGTCATTGATCTTGGA\\nTGTGGCAGAGGGGGCTGGAGTTACTACGCCGCCACCATCCGCAAAGTTCAAGAAGTGAAAGGATACACAA\\nAAGGAGGCCCTGGTCATGAAGAACCCGTGTTGGTGCAAAGCTATGGGTGGAATATAGTCCGTCTTAAGAG\\nTGGGGTGGACGTCTTTCATATGGCGGCTGAGCCGTGTGACACGTTGCTGTGTGACATAGGTGAGTCATCA\\nTCTAGTCCTGAAGTGGAAGAAGCACGGACGCTCAGAGTCCTCTCCATGGTGGGGGATTGGCTTGAAAAAA\\nGACCAGGAGCCTTTTGTATAAAAGTGTTGTGCCCATACACCAGCACTATGATGGAAACCCTGGAGCGACT\\nGCAGCGTAGGTATGGGGGAGGACTGGTCAGAGTGCCACTCTCCCGCAACTCTACACATGAGATGTACTGG\\nGTCTCTGGAGCGAAAAGCAACACCATAAAAAGTGTGTCCACCACGAGCCAGCTCCTCTTGGGGCGCATGG\\nACGGGCCTAGGAGGCCAGTGAAATATGAGGAGGATGTGAATCTCGGCTCTGGCACGCGGGCTGTGGTAAG\\nCTGCGCTGAAGCTCCCAACATGAAGATCATTGGTAACCGCATTGAAAGGATCCGCAGTGAGCACGCGGAA\\nACGTGGTTCTTTGACGAGAACCACCCATATAGGACATGGGCTTACCATGGAAGCTATGAGGCCCCCACAC\\nAAGGGTCAGCGTCCTCTCTAATAAACGGGGTTGTCAGGCTCCTGTCAAAACCCTGGGATGTGGTGACTGG\\nAGTCACAGGAATAGCCATGACCGACACCACACCGTATGGTCAGCAAAGAGTTTTCAAGGAAAAAGTGGAC\\nACTAGGGTGCCAGACCCCCAAGAAGGCACTCGTCAGGTTATGAGCATGGTCTCTTCCTGGTTGTGGAAAG\\nAGCTAGGCAAACACAAACGGCCACGAGTCTGTACCAAAGAAGAGTTCATCAACAAGGTGCGTAGCAATGC\\nAGCATTAGGGGCAATATTTGAAGAGGAAAAAGAGTGGAAGACTGCAGTGGAAGCTGTGAACGATCCAAGG\\nTTCTGGGCTCTAGTGGACAAGGAAAGAGAGCACCACCTGAGAGGAGAGTGCCAGAGTTGTGTGTACAACA\\nTGATGGGAAAAAGAGAAAAGAAACAAGGGGAATTTGGAAAGGCCAAGGGCAGCCGCGCCATCTGGTATAT\\nGTGGCTAGGGGCTAGATTTCTAGAGTTCGAAGCCCTTGGATTCTTGAACGAGGATCACTGGATGGGGAGA\\nGAGAACTCAGGAGGTGGTGTTGAAGGGCTGGGATTACAAAGACTCGGATATGTCCTAGAAGAGATGAGTC\\nGCATACCAGGAGGAAGGATGTATGCAGATGACACTGCTGGCTGGGACACCCGCATTAGCAGGTTTGATCT\\nGGAGAATGAAGCTCTAATCACCAACCAAATGGAGAAAGGGCACAGGGCCTTGGCATTGGCCATAATCAAG\\nTACACATACCAAAACAAAGTGGTAAAGGTCCTTAGACCAGCTGAAAAAGGGAAAACAGTTATGGACATTA\\nTTTCGAGACAAGACCAAAGGGGGAGCGGACAAGTTGTCACTTACGCTCTTAACACATTTACCAACCTAGT\\nGGTGCAACTCATTCGGAATATGGAGGCTGAGGAAGTTCTAGAGATGCAAGACTTGTGGCTGCTGCGGAGG\\nTCAGAGAAAGTGACCAACTGGTTGCAGAGCAACGGATGGGATAGGCTCAAACGAATGGCAGTCAGTGGAG\\nATGATTGCGTTGTGAAGCCAATTGATGATAGGTTTGCACATGCCCTCAGGTTCTTGAATGATATGGGAAA\\nAGTTAGGAAGGACACACAAGAGTGGAAACCCTCAACTGGATGGGACAACTGGGAAGAAGTTCCGTTTTGC\\nTCCCACCACTTCAACAAGCTCCATCTCAAGGACGGGAGGTCCATTGTGGTTCCCTGCCGCCACCAAGATG\\nAACTGATTGGCCGGGCCCGCGTCTCTCCAGGGGCGGGATGGAGCATCCGGGAGACTGCTTGCCTAGCAAA\\nATCATATGCGCAAATGTGGCAGCTCCTTTATTTCCACAGAAGGGACCTCCGACTGATGGCCAATGCCATT\\nTGTTCATCTGTGCCAGTTGACTGGGTTCCAACTGGGAGAACTACCTGGTCAATCCATGGAAAGGGAGAAT\\nGGATGACCACTGAAGACATGCTTGTGGTGTGGAACAGAGTGTGGATTGAGGAGAACGACCACATGGAAGA\\nCAAGACCCCAGTTACGAAATGGACAGACATTCCCTATTTGGGAAAAAGGGAAGACTTGTGGTGTGGATCT\\nCTCATAGGGCACAGACCGCGCACCACCTGGGCTGAGAACATTAAAAACACAGTCAACATGGTGCGCAGGA\\nTCATAGGTGATGAAGAAAAGTACATGGACTACCTATCCACCCAAGTTCGCTACTTGGGTGAAGAAGGGTC\\nTACACCTGGAGTGCTGTAAGCACCAATCTTAATGTTGTCAGGCCTGCTAGTCAGCCACAGCTTGGGGAAA\\nGCTGTGCAGCCTGTGACCCCCCCAGGAGAAGCTGGGAAACCAAGCCTATAGTCAGGCCGAGAACGCCATG\\nGCACGGAAGAAGCCATGCTGCCTGTGAGCCCCTCAGAGGACACTGAGTCAAAAAACCCCACGCGCTTGGA\\nGGCGCAGGATGGGAAAAGAAGGTGGCGACCTTCCCCACCCTTCAATCTGGGGCCTGAACTGGAGATCAGC\\nTGTGGATCTCCAGAAGAGGGACTAGTGGTTAGAGGAGACCCCCCGGAAAACGCAAAACAGCATATTGACG\\nCTGGGAAAGACCAGAGACTCCATGAGTTTCCACCACGCTGGCCGCCAGGCACAGATCGCCGAATAGCGGC\\nGGCCGGTGTGGGGAAATCCATGGGTCTT'"
      ]
     },
     "execution_count": 26,
     "metadata": {},
     "output_type": "execute_result"
    }
   ],
   "source": [
    "open(\"../data/sequence_data/zika.fa\", \"r\").read()"
   ]
  },
  {
   "cell_type": "code",
   "execution_count": 25,
   "id": "ea874a22-6f1f-4fcf-b731-92af8423c37f",
   "metadata": {
    "tags": []
   },
   "outputs": [
    {
     "data": {
      "text/plain": [
       "\u001b[0;31mSignature:\u001b[0m \u001b[0mstr\u001b[0m\u001b[0;34m.\u001b[0m\u001b[0mrstrip\u001b[0m\u001b[0;34m(\u001b[0m\u001b[0mself\u001b[0m\u001b[0;34m,\u001b[0m \u001b[0mchars\u001b[0m\u001b[0;34m=\u001b[0m\u001b[0;32mNone\u001b[0m\u001b[0;34m,\u001b[0m \u001b[0;34m/\u001b[0m\u001b[0;34m)\u001b[0m\u001b[0;34m\u001b[0m\u001b[0;34m\u001b[0m\u001b[0m\n",
       "\u001b[0;31mDocstring:\u001b[0m\n",
       "Return a copy of the string with trailing whitespace removed.\n",
       "\n",
       "If chars is given and not None, remove characters in chars instead.\n",
       "\u001b[0;31mType:\u001b[0m      method_descriptor"
      ]
     },
     "metadata": {},
     "output_type": "display_data"
    }
   ],
   "source": [
    "str.rstrip?"
   ]
  },
  {
   "cell_type": "code",
   "execution_count": null,
   "id": "ea909078-6bd6-446d-9acd-5deeb45ac8cf",
   "metadata": {},
   "outputs": [],
   "source": []
  },
  {
   "cell_type": "code",
   "execution_count": 30,
   "id": "8d021593-9dcd-4e2a-92f7-97ef77cd9de3",
   "metadata": {
    "tags": []
   },
   "outputs": [
    {
     "data": {
      "text/plain": [
       "'Testavc'"
      ]
     },
     "execution_count": 30,
     "metadata": {},
     "output_type": "execute_result"
    }
   ],
   "source": [
    "\"\".join([\"Test\", \"\", \"avc\"])"
   ]
  },
  {
   "cell_type": "code",
   "execution_count": 33,
   "id": "8713aaf9-6f83-47fe-bb86-cd57155ea32f",
   "metadata": {
    "tags": []
   },
   "outputs": [],
   "source": [
    "def fastaToDict(fil):\n",
    "    \"\"\"\n",
    "    Read fasta-format file fil, return dict of form scaffold:sequence.\n",
    "    Note: Uses only the unique identifier of each sequence, rather than the \n",
    "    entire header, for dict keys. \n",
    "    \"\"\"\n",
    "    dic = {}\n",
    "    cur_scaf = ''\n",
    "    cur_seq = []\n",
    "    for line in open(fil):\n",
    "        if line.startswith(\">\") and cur_scaf == '':\n",
    "            cur_scaf = line.rstrip()\n",
    "        elif line.startswith(\">\") and cur_scaf != '':\n",
    "            dic[cur_scaf] = ''.join(cur_seq)\n",
    "            cur_scaf = line.rstrip()\n",
    "            cur_seq = []\n",
    "        else:\n",
    "            cur_seq.append(line.rstrip())\n",
    "    dic[cur_scaf] = ''.join(cur_seq)\n",
    "    return dic\n"
   ]
  },
  {
   "cell_type": "code",
   "execution_count": 34,
   "id": "01b4774f-de3b-4f63-8b2f-da56628b35aa",
   "metadata": {
    "tags": []
   },
   "outputs": [],
   "source": [
    "sequences2 = fastaToDict(\"../scraping-v2/sequences.fa\")"
   ]
  },
  {
   "cell_type": "code",
   "execution_count": 35,
   "id": "9cc4fc73-facb-4d5a-add9-294b2f230c6e",
   "metadata": {
    "tags": []
   },
   "outputs": [],
   "source": [
    "df = pd.DataFrame(list(sequences2.items()))\n",
    "df2 = pd.DataFrame(list(d.items()))"
   ]
  },
  {
   "cell_type": "code",
   "execution_count": 36,
   "id": "c79f31f5-adfa-40e7-86a6-128cf698fc4f",
   "metadata": {
    "tags": []
   },
   "outputs": [
    {
     "data": {
      "text/html": [
       "<div>\n",
       "<style scoped>\n",
       "    .dataframe tbody tr th:only-of-type {\n",
       "        vertical-align: middle;\n",
       "    }\n",
       "\n",
       "    .dataframe tbody tr th {\n",
       "        vertical-align: top;\n",
       "    }\n",
       "\n",
       "    .dataframe thead th {\n",
       "        text-align: right;\n",
       "    }\n",
       "</style>\n",
       "<table border=\"1\" class=\"dataframe\">\n",
       "  <thead>\n",
       "    <tr style=\"text-align: right;\">\n",
       "      <th></th>\n",
       "      <th>0</th>\n",
       "      <th>1</th>\n",
       "    </tr>\n",
       "  </thead>\n",
       "  <tbody>\n",
       "    <tr>\n",
       "      <th>0</th>\n",
       "      <td>&gt;NC_009942.1 |West Nile virus lineage 1, compl...</td>\n",
       "      <td>AGTAGTTCGCCTGTGTGAGCTGACAAACTTAGTAGTGTTTGTGAGG...</td>\n",
       "    </tr>\n",
       "    <tr>\n",
       "      <th>1</th>\n",
       "      <td>&gt;NC_001563.2 |West Nile virus lineage 2, compl...</td>\n",
       "      <td>AGTAGTTCGCCTGTGTGAGCTGACAAACTTAGTAGTGTTTGTGAGG...</td>\n",
       "    </tr>\n",
       "    <tr>\n",
       "      <th>2</th>\n",
       "      <td>&gt;PP524755.1 |West Nile virus isolate RO_moR23-...</td>\n",
       "      <td>AGCACGAAGATCTCGATGTCTAAGAAACCAGGAGGGCCCGGTAAAA...</td>\n",
       "    </tr>\n",
       "    <tr>\n",
       "      <th>3</th>\n",
       "      <td>&gt;PP524756.1 |West Nile virus isolate RO_moR23-...</td>\n",
       "      <td>GACAAACTTAGTAGTGTTTGTGAGGATTAACAACAATTAACACAGT...</td>\n",
       "    </tr>\n",
       "    <tr>\n",
       "      <th>4</th>\n",
       "      <td>&gt;LC817237.1 |West Nile virus Croc110_2019_1_ZM...</td>\n",
       "      <td>AACAGCTCGCCTGTGTGAGCTGACAAACTTAGTAGTGTTTGTGAGG...</td>\n",
       "    </tr>\n",
       "    <tr>\n",
       "      <th>...</th>\n",
       "      <td>...</td>\n",
       "      <td>...</td>\n",
       "    </tr>\n",
       "    <tr>\n",
       "      <th>2044</th>\n",
       "      <td>&gt;HM756672.1 West Nile virus isolate WNV-1/US/B...</td>\n",
       "      <td>CCTGTGTGAGCTGACAAACTTAGTAGTGTTTGTGAGGATTAACAAC...</td>\n",
       "    </tr>\n",
       "    <tr>\n",
       "      <th>2045</th>\n",
       "      <td>&gt;KJ501244.1 West Nile virus isolate WNV-1/US/B...</td>\n",
       "      <td>AGTAGTTCGCCTGTGTGAGCTGACAAACTTAGTAGTGTTTGTGAGG...</td>\n",
       "    </tr>\n",
       "    <tr>\n",
       "      <th>2046</th>\n",
       "      <td>&gt;KC736499.1 West Nile virus isolate AVA1204580...</td>\n",
       "      <td>AGTAGTTCGCCTGTGTGAGCTGACAAACTTAGTAGTGTTTGTGAGG...</td>\n",
       "    </tr>\n",
       "    <tr>\n",
       "      <th>2047</th>\n",
       "      <td>&gt;DQ164198.1 West Nile virus isolate TX 2002 1,...</td>\n",
       "      <td>AGTAGTTCGCCTGTGTGAGCTGACAAACTTAGTAGTGTTTGTGAGG...</td>\n",
       "    </tr>\n",
       "    <tr>\n",
       "      <th>2048</th>\n",
       "      <td>&gt;KF704158.1 West Nile virus strain AZ10-892, c...</td>\n",
       "      <td>AGTTCGCCTGTGTGAGCTGACAAACTTAGTAGTGTTTGTGAGGATT...</td>\n",
       "    </tr>\n",
       "  </tbody>\n",
       "</table>\n",
       "<p>4045 rows × 2 columns</p>\n",
       "</div>"
      ],
      "text/plain": [
       "                                                      0  \\\n",
       "0     >NC_009942.1 |West Nile virus lineage 1, compl...   \n",
       "1     >NC_001563.2 |West Nile virus lineage 2, compl...   \n",
       "2     >PP524755.1 |West Nile virus isolate RO_moR23-...   \n",
       "3     >PP524756.1 |West Nile virus isolate RO_moR23-...   \n",
       "4     >LC817237.1 |West Nile virus Croc110_2019_1_ZM...   \n",
       "...                                                 ...   \n",
       "2044  >HM756672.1 West Nile virus isolate WNV-1/US/B...   \n",
       "2045  >KJ501244.1 West Nile virus isolate WNV-1/US/B...   \n",
       "2046  >KC736499.1 West Nile virus isolate AVA1204580...   \n",
       "2047  >DQ164198.1 West Nile virus isolate TX 2002 1,...   \n",
       "2048  >KF704158.1 West Nile virus strain AZ10-892, c...   \n",
       "\n",
       "                                                      1  \n",
       "0     AGTAGTTCGCCTGTGTGAGCTGACAAACTTAGTAGTGTTTGTGAGG...  \n",
       "1     AGTAGTTCGCCTGTGTGAGCTGACAAACTTAGTAGTGTTTGTGAGG...  \n",
       "2     AGCACGAAGATCTCGATGTCTAAGAAACCAGGAGGGCCCGGTAAAA...  \n",
       "3     GACAAACTTAGTAGTGTTTGTGAGGATTAACAACAATTAACACAGT...  \n",
       "4     AACAGCTCGCCTGTGTGAGCTGACAAACTTAGTAGTGTTTGTGAGG...  \n",
       "...                                                 ...  \n",
       "2044  CCTGTGTGAGCTGACAAACTTAGTAGTGTTTGTGAGGATTAACAAC...  \n",
       "2045  AGTAGTTCGCCTGTGTGAGCTGACAAACTTAGTAGTGTTTGTGAGG...  \n",
       "2046  AGTAGTTCGCCTGTGTGAGCTGACAAACTTAGTAGTGTTTGTGAGG...  \n",
       "2047  AGTAGTTCGCCTGTGTGAGCTGACAAACTTAGTAGTGTTTGTGAGG...  \n",
       "2048  AGTTCGCCTGTGTGAGCTGACAAACTTAGTAGTGTTTGTGAGGATT...  \n",
       "\n",
       "[4045 rows x 2 columns]"
      ]
     },
     "execution_count": 36,
     "metadata": {},
     "output_type": "execute_result"
    }
   ],
   "source": [
    "total = pd.concat([df, df2], axis=0)\n",
    "total"
   ]
  },
  {
   "cell_type": "code",
   "execution_count": 40,
   "id": "0738d99d-7651-4bdd-aaa9-b31655254194",
   "metadata": {
    "tags": []
   },
   "outputs": [
    {
     "data": {
      "text/html": [
       "<div>\n",
       "<style scoped>\n",
       "    .dataframe tbody tr th:only-of-type {\n",
       "        vertical-align: middle;\n",
       "    }\n",
       "\n",
       "    .dataframe tbody tr th {\n",
       "        vertical-align: top;\n",
       "    }\n",
       "\n",
       "    .dataframe thead th {\n",
       "        text-align: right;\n",
       "    }\n",
       "</style>\n",
       "<table border=\"1\" class=\"dataframe\">\n",
       "  <thead>\n",
       "    <tr style=\"text-align: right;\">\n",
       "      <th></th>\n",
       "      <th>0</th>\n",
       "      <th>1</th>\n",
       "    </tr>\n",
       "  </thead>\n",
       "  <tbody>\n",
       "    <tr>\n",
       "      <th>0</th>\n",
       "      <td>&gt;NC_009942.1 |West Nile virus lineage 1, compl...</td>\n",
       "      <td>AGTAGTTCGCCTGTGTGAGCTGACAAACTTAGTAGTGTTTGTGAGG...</td>\n",
       "    </tr>\n",
       "    <tr>\n",
       "      <th>1</th>\n",
       "      <td>&gt;NC_001563.2 |West Nile virus lineage 2, compl...</td>\n",
       "      <td>AGTAGTTCGCCTGTGTGAGCTGACAAACTTAGTAGTGTTTGTGAGG...</td>\n",
       "    </tr>\n",
       "    <tr>\n",
       "      <th>2</th>\n",
       "      <td>&gt;PP524755.1 |West Nile virus isolate RO_moR23-...</td>\n",
       "      <td>AGCACGAAGATCTCGATGTCTAAGAAACCAGGAGGGCCCGGTAAAA...</td>\n",
       "    </tr>\n",
       "    <tr>\n",
       "      <th>3</th>\n",
       "      <td>&gt;PP524756.1 |West Nile virus isolate RO_moR23-...</td>\n",
       "      <td>GACAAACTTAGTAGTGTTTGTGAGGATTAACAACAATTAACACAGT...</td>\n",
       "    </tr>\n",
       "    <tr>\n",
       "      <th>4</th>\n",
       "      <td>&gt;LC817237.1 |West Nile virus Croc110_2019_1_ZM...</td>\n",
       "      <td>AACAGCTCGCCTGTGTGAGCTGACAAACTTAGTAGTGTTTGTGAGG...</td>\n",
       "    </tr>\n",
       "    <tr>\n",
       "      <th>...</th>\n",
       "      <td>...</td>\n",
       "      <td>...</td>\n",
       "    </tr>\n",
       "    <tr>\n",
       "      <th>2006</th>\n",
       "      <td>&gt;GU828003.1 West Nile virus isolate Bird1881 p...</td>\n",
       "      <td>TTAACAACAATTAACACAGTGCGAGCTGTTTCTTAGCACGAAGATC...</td>\n",
       "    </tr>\n",
       "    <tr>\n",
       "      <th>2008</th>\n",
       "      <td>&gt;KR349019.1 West Nile virus isolate SHAS_235_2...</td>\n",
       "      <td>GTTCACAGCAATTGCTCCGACCCGAGCAGTGCTGGATCGATGGAGA...</td>\n",
       "    </tr>\n",
       "    <tr>\n",
       "      <th>2010</th>\n",
       "      <td>&gt;DQ431698.1 West Nile virus isolate 03-120FL p...</td>\n",
       "      <td>ATGTCTAAGAAACCAGGAGGGCCCGGCAAGAGCCGGGCTGTCAATA...</td>\n",
       "    </tr>\n",
       "    <tr>\n",
       "      <th>2022</th>\n",
       "      <td>&gt;KR348998.1 West Nile virus isolate SAYO_2604_...</td>\n",
       "      <td>GTTCACAGCAATTGCTCCGACCCGAGCAGTGCTGGATCGATGGAGA...</td>\n",
       "    </tr>\n",
       "    <tr>\n",
       "      <th>2039</th>\n",
       "      <td>&gt;KR348988.1 West Nile virus isolate KERN_377_2...</td>\n",
       "      <td>GTTCACAGCAATTGCTCCGACCCGAGCAGTGCTGGATCGATGGAGA...</td>\n",
       "    </tr>\n",
       "  </tbody>\n",
       "</table>\n",
       "<p>3359 rows × 2 columns</p>\n",
       "</div>"
      ],
      "text/plain": [
       "                                                      0  \\\n",
       "0     >NC_009942.1 |West Nile virus lineage 1, compl...   \n",
       "1     >NC_001563.2 |West Nile virus lineage 2, compl...   \n",
       "2     >PP524755.1 |West Nile virus isolate RO_moR23-...   \n",
       "3     >PP524756.1 |West Nile virus isolate RO_moR23-...   \n",
       "4     >LC817237.1 |West Nile virus Croc110_2019_1_ZM...   \n",
       "...                                                 ...   \n",
       "2006  >GU828003.1 West Nile virus isolate Bird1881 p...   \n",
       "2008  >KR349019.1 West Nile virus isolate SHAS_235_2...   \n",
       "2010  >DQ431698.1 West Nile virus isolate 03-120FL p...   \n",
       "2022  >KR348998.1 West Nile virus isolate SAYO_2604_...   \n",
       "2039  >KR348988.1 West Nile virus isolate KERN_377_2...   \n",
       "\n",
       "                                                      1  \n",
       "0     AGTAGTTCGCCTGTGTGAGCTGACAAACTTAGTAGTGTTTGTGAGG...  \n",
       "1     AGTAGTTCGCCTGTGTGAGCTGACAAACTTAGTAGTGTTTGTGAGG...  \n",
       "2     AGCACGAAGATCTCGATGTCTAAGAAACCAGGAGGGCCCGGTAAAA...  \n",
       "3     GACAAACTTAGTAGTGTTTGTGAGGATTAACAACAATTAACACAGT...  \n",
       "4     AACAGCTCGCCTGTGTGAGCTGACAAACTTAGTAGTGTTTGTGAGG...  \n",
       "...                                                 ...  \n",
       "2006  TTAACAACAATTAACACAGTGCGAGCTGTTTCTTAGCACGAAGATC...  \n",
       "2008  GTTCACAGCAATTGCTCCGACCCGAGCAGTGCTGGATCGATGGAGA...  \n",
       "2010  ATGTCTAAGAAACCAGGAGGGCCCGGCAAGAGCCGGGCTGTCAATA...  \n",
       "2022  GTTCACAGCAATTGCTCCGACCCGAGCAGTGCTGGATCGATGGAGA...  \n",
       "2039  GTTCACAGCAATTGCTCCGACCCGAGCAGTGCTGGATCGATGGAGA...  \n",
       "\n",
       "[3359 rows x 2 columns]"
      ]
     },
     "execution_count": 40,
     "metadata": {},
     "output_type": "execute_result"
    }
   ],
   "source": [
    "total.drop_duplicates(subset=[1], keep='first', inplace=True)\n",
    "total"
   ]
  },
  {
   "cell_type": "code",
   "execution_count": 44,
   "id": "d99a3064-5486-4faf-abca-097b22bef528",
   "metadata": {
    "tags": []
   },
   "outputs": [
    {
     "data": {
      "text/plain": [
       "'>NC_001563.2 |West Nile virus lineage 2, complete genome'"
      ]
     },
     "execution_count": 44,
     "metadata": {},
     "output_type": "execute_result"
    }
   ],
   "source": [
    "total.loc[1][0]"
   ]
  },
  {
   "cell_type": "code",
   "execution_count": 45,
   "id": "68361a5e-ddb9-4ae7-8f9c-10f4636fc24c",
   "metadata": {
    "tags": []
   },
   "outputs": [],
   "source": [
    "for index, row in total.iterrows():\n",
    "    folder_path = \"../data/sequence_data/single_sequence/\"\n",
    "    seq_name = row[0][1:].split(\" \", maxsplit=1)[0]\n",
    "    \n",
    "    f = open(folder_path + seq_name + \".fa\", \"w\")\n",
    "    f.write(row[0] + \"\\n\")\n",
    "    f.write(row[1] + \"\\n\")\n",
    "    f.close()"
   ]
  },
  {
   "cell_type": "code",
   "execution_count": 46,
   "id": "afe801d5-0ef9-43a0-a88a-629b1a03f443",
   "metadata": {
    "tags": []
   },
   "outputs": [],
   "source": [
    "f = open(\"../data/sequence_data/single_sequence/\" + \"giant.fa\", \"w\")\n",
    "for index, row in total.iterrows():\n",
    "    f.write(row[0] + \"\\n\")\n",
    "    f.write(row[1] + \"\\n\")\n",
    "f.close()\n"
   ]
  },
  {
   "cell_type": "code",
   "execution_count": null,
   "id": "4431353d-41b0-4537-b12f-8a35881505f5",
   "metadata": {},
   "outputs": [],
   "source": []
  }
 ],
 "metadata": {
  "kernelspec": {
   "display_name": "Python 3 (ipykernel)",
   "language": "python",
   "name": "python3"
  },
  "language_info": {
   "codemirror_mode": {
    "name": "ipython",
    "version": 3
   },
   "file_extension": ".py",
   "mimetype": "text/x-python",
   "name": "python",
   "nbconvert_exporter": "python",
   "pygments_lexer": "ipython3",
   "version": "3.11.5"
  }
 },
 "nbformat": 4,
 "nbformat_minor": 5
}
